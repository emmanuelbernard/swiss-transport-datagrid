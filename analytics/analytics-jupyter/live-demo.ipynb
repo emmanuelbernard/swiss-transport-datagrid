{
 "cells": [
  {
   "cell_type": "code",
   "execution_count": null,
   "metadata": {
    "collapsed": true
   },
   "outputs": [],
   "source": [
    "import datetime\n",
    "import json\n",
    "import numpy as np\n",
    "import matplotlib.pyplot as plt\n",
    "import pandas as pd\n",
    "import urllib.request\n",
    "\n",
    "from itertools import *\n",
    "from matplotlib import cm\n",
    "from matplotlib import mlab\n",
    "from matplotlib.ticker import FuncFormatter"
   ]
  },
  {
   "cell_type": "code",
   "execution_count": null,
   "metadata": {
    "collapsed": true
   },
   "outputs": [],
   "source": [
    "url = 'http://analytics-myproject.127.0.0.1.nip.io/delays-ratio'"
   ]
  },
  {
   "cell_type": "code",
   "execution_count": null,
   "metadata": {},
   "outputs": [],
   "source": [
    "analytics = pd.read_json(path_or_buf=url,numpy=True)\n",
    "analytics.size"
   ]
  },
  {
   "cell_type": "code",
   "execution_count": null,
   "metadata": {},
   "outputs": [],
   "source": [
    "%matplotlib inline\n",
    "\n",
    "def to_percent(y, position):\n",
    "    s = str(100 * y)\n",
    "    return s + '%'\n",
    "    \n",
    "formatter_percent = FuncFormatter(to_percent)\n",
    "\n",
    "plot_delay_dist = (analytics.delayed_per_hour/analytics.tot_per_hour).plot(kind='bar', figsize=(16,12))\n",
    "plot_delay_dist.set_xlabel(\"hour of the day\", fontsize=17)\n",
    "plot_delay_dist.set_title('ratio of delayed trains, across  the day', fontsize=25)\n",
    "plot_delay_dist.tick_params(axis='both', which='major', labelsize=15)\n",
    "plot_delay_dist.yaxis.set_major_formatter(formatter_percent)"
   ]
  },
  {
   "cell_type": "code",
   "execution_count": null,
   "metadata": {},
   "outputs": [],
   "source": [
    "analytics"
   ]
  },
  {
   "cell_type": "code",
   "execution_count": null,
   "metadata": {
    "collapsed": true
   },
   "outputs": [],
   "source": []
  }
 ],
 "metadata": {
  "kernelspec": {
   "display_name": "Python 3",
   "language": "python",
   "name": "python3"
  },
  "language_info": {
   "codemirror_mode": {
    "name": "ipython",
    "version": 3
   },
   "file_extension": ".py",
   "mimetype": "text/x-python",
   "name": "python",
   "nbconvert_exporter": "python",
   "pygments_lexer": "ipython3",
   "version": "3.6.2"
  }
 },
 "nbformat": 4,
 "nbformat_minor": 2
}
