{
 "cells": [
  {
   "cell_type": "code",
   "execution_count": 1,
   "metadata": {
    "collapsed": true
   },
   "outputs": [],
   "source": [
    "import datetime\n",
    "import json\n",
    "import numpy as np\n",
    "import matplotlib.pyplot as plt\n",
    "import pandas as pd\n",
    "import urllib.request\n",
    "\n",
    "from itertools import *\n",
    "from matplotlib import cm\n",
    "from matplotlib import mlab\n",
    "from matplotlib.ticker import FuncFormatter"
   ]
  },
  {
   "cell_type": "code",
   "execution_count": 2,
   "metadata": {
    "collapsed": true
   },
   "outputs": [],
   "source": [
    "url = 'http://analytics-myproject.127.0.0.1.xip.io/delays-ratio'"
   ]
  },
  {
   "cell_type": "code",
   "execution_count": 3,
   "metadata": {
    "collapsed": false
   },
   "outputs": [
    {
     "data": {
      "text/html": [
       "<div>\n",
       "<table border=\"1\" class=\"dataframe\">\n",
       "  <thead>\n",
       "    <tr style=\"text-align: right;\">\n",
       "      <th></th>\n",
       "      <th>delayed_per_hour</th>\n",
       "      <th>tot_per_hour</th>\n",
       "    </tr>\n",
       "  </thead>\n",
       "  <tbody>\n",
       "    <tr>\n",
       "      <th>0</th>\n",
       "      <td>3033</td>\n",
       "      <td>32165</td>\n",
       "    </tr>\n",
       "    <tr>\n",
       "      <th>1</th>\n",
       "      <td>695</td>\n",
       "      <td>5017</td>\n",
       "    </tr>\n",
       "    <tr>\n",
       "      <th>10</th>\n",
       "      <td>2503</td>\n",
       "      <td>89542</td>\n",
       "    </tr>\n",
       "    <tr>\n",
       "      <th>11</th>\n",
       "      <td>2469</td>\n",
       "      <td>91655</td>\n",
       "    </tr>\n",
       "    <tr>\n",
       "      <th>12</th>\n",
       "      <td>2436</td>\n",
       "      <td>93165</td>\n",
       "    </tr>\n",
       "    <tr>\n",
       "      <th>13</th>\n",
       "      <td>2556</td>\n",
       "      <td>97800</td>\n",
       "    </tr>\n",
       "    <tr>\n",
       "      <th>14</th>\n",
       "      <td>2544</td>\n",
       "      <td>96793</td>\n",
       "    </tr>\n",
       "    <tr>\n",
       "      <th>15</th>\n",
       "      <td>2730</td>\n",
       "      <td>97603</td>\n",
       "    </tr>\n",
       "    <tr>\n",
       "      <th>16</th>\n",
       "      <td>3422</td>\n",
       "      <td>104061</td>\n",
       "    </tr>\n",
       "    <tr>\n",
       "      <th>17</th>\n",
       "      <td>5918</td>\n",
       "      <td>113509</td>\n",
       "    </tr>\n",
       "    <tr>\n",
       "      <th>18</th>\n",
       "      <td>8190</td>\n",
       "      <td>107567</td>\n",
       "    </tr>\n",
       "    <tr>\n",
       "      <th>19</th>\n",
       "      <td>5832</td>\n",
       "      <td>95271</td>\n",
       "    </tr>\n",
       "    <tr>\n",
       "      <th>2</th>\n",
       "      <td>321</td>\n",
       "      <td>2307</td>\n",
       "    </tr>\n",
       "    <tr>\n",
       "      <th>20</th>\n",
       "      <td>3680</td>\n",
       "      <td>82870</td>\n",
       "    </tr>\n",
       "    <tr>\n",
       "      <th>21</th>\n",
       "      <td>2824</td>\n",
       "      <td>72665</td>\n",
       "    </tr>\n",
       "    <tr>\n",
       "      <th>22</th>\n",
       "      <td>2810</td>\n",
       "      <td>64715</td>\n",
       "    </tr>\n",
       "    <tr>\n",
       "      <th>23</th>\n",
       "      <td>3495</td>\n",
       "      <td>56610</td>\n",
       "    </tr>\n",
       "    <tr>\n",
       "      <th>3</th>\n",
       "      <td>261</td>\n",
       "      <td>2065</td>\n",
       "    </tr>\n",
       "    <tr>\n",
       "      <th>4</th>\n",
       "      <td>210</td>\n",
       "      <td>4031</td>\n",
       "    </tr>\n",
       "    <tr>\n",
       "      <th>5</th>\n",
       "      <td>1070</td>\n",
       "      <td>48566</td>\n",
       "    </tr>\n",
       "    <tr>\n",
       "      <th>6</th>\n",
       "      <td>2555</td>\n",
       "      <td>94073</td>\n",
       "    </tr>\n",
       "    <tr>\n",
       "      <th>7</th>\n",
       "      <td>4803</td>\n",
       "      <td>99729</td>\n",
       "    </tr>\n",
       "    <tr>\n",
       "      <th>8</th>\n",
       "      <td>3677</td>\n",
       "      <td>94490</td>\n",
       "    </tr>\n",
       "    <tr>\n",
       "      <th>9</th>\n",
       "      <td>2624</td>\n",
       "      <td>90541</td>\n",
       "    </tr>\n",
       "  </tbody>\n",
       "</table>\n",
       "</div>"
      ],
      "text/plain": [
       "    delayed_per_hour  tot_per_hour\n",
       "0               3033         32165\n",
       "1                695          5017\n",
       "10              2503         89542\n",
       "11              2469         91655\n",
       "12              2436         93165\n",
       "13              2556         97800\n",
       "14              2544         96793\n",
       "15              2730         97603\n",
       "16              3422        104061\n",
       "17              5918        113509\n",
       "18              8190        107567\n",
       "19              5832         95271\n",
       "2                321          2307\n",
       "20              3680         82870\n",
       "21              2824         72665\n",
       "22              2810         64715\n",
       "23              3495         56610\n",
       "3                261          2065\n",
       "4                210          4031\n",
       "5               1070         48566\n",
       "6               2555         94073\n",
       "7               4803         99729\n",
       "8               3677         94490\n",
       "9               2624         90541"
      ]
     },
     "execution_count": 3,
     "metadata": {},
     "output_type": "execute_result"
    }
   ],
   "source": [
    "analytics = pd.read_json(path_or_buf=url,numpy=True)\n",
    "analytics"
   ]
  },
  {
   "cell_type": "code",
   "execution_count": 4,
   "metadata": {
    "collapsed": false
   },
   "outputs": [
    {
     "data": {
      "image/png": "[encoded data removed]",
      "text/plain": [
       "<matplotlib.figure.Figure at 0x10bf5dba8>"
      ]
     },
     "metadata": {},
     "output_type": "display_data"
    }
   ],
   "source": [
    "%matplotlib inline\n",
    "\n",
    "def to_percent(y, position):\n",
    "    s = str(100 * y)\n",
    "    return s + '%'\n",
    "    \n",
    "formatter_percent = FuncFormatter(to_percent)\n",
    "\n",
    "plot_delay_dist = (analytics.delayed_per_hour/analytics.tot_per_hour).plot(kind='bar', figsize=(16,12))\n",
    "plot_delay_dist.set_xlabel(\"hour of the day\", fontsize=17)\n",
    "plot_delay_dist.set_title('ratio of delayed trains, across  the day', fontsize=25)\n",
    "plot_delay_dist.tick_params(axis='both', which='major', labelsize=15)\n",
    "plot_delay_dist.yaxis.set_major_formatter(formatter_percent)"
   ]
  },
  {
   "cell_type": "code",
   "execution_count": null,
   "metadata": {
    "collapsed": true
   },
   "outputs": [],
   "source": []
  }
 ],
 "metadata": {
  "kernelspec": {
   "display_name": "Python 3",
   "language": "python",
   "name": "python3"
  },
  "language_info": {
   "codemirror_mode": {
    "name": "ipython",
    "version": 3
   },
   "file_extension": ".py",
   "mimetype": "text/x-python",
   "name": "python",
   "nbconvert_exporter": "python",
   "pygments_lexer": "ipython3",
   "version": "3.6.0"
  }
 },
 "nbformat": 4,
 "nbformat_minor": 2
}
